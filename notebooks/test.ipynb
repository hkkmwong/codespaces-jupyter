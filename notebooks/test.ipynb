{
 "cells": [
  {
   "cell_type": "markdown",
   "metadata": {},
   "source": [
    "### Notebooks for Learning and Practising Python codes\n",
    "\n",
    "Notebooks must be created/ edited in codespace environemnt.\n",
    "Conflicts will arise if files are created/ edited in repositories environment."
   ]
  },
  {
   "cell_type": "code",
   "execution_count": null,
   "metadata": {},
   "outputs": [],
   "source": [
    "# while loop (for incremental)\n",
    "\n",
    "i=1\n",
    "while i <= 27:\n",
    "    print(\"Hello, World!\" + \" \" + str(i) + \" times\")\n",
    "    i+=1   "
   ]
  },
  {
   "cell_type": "code",
   "execution_count": null,
   "metadata": {},
   "outputs": [],
   "source": [
    "# for loop (for items in a list)\n",
    "\n",
    "for i in [\"apple\", \"boy\", \"car\"]:\n",
    "    print(i)\n",
    "print(\"That's all in the list!\")"
   ]
  },
  {
   "cell_type": "code",
   "execution_count": null,
   "metadata": {},
   "outputs": [],
   "source": [
    "# if condition (for certain conditions, may be used with else and elseif/elif)\n",
    "\n",
    "a = float(input(\"Enter a: \"))\n",
    "b = float(input(\"Enter b: \"))\n",
    "\n",
    "if b > a:\n",
    "\tprint(str(b), \"is greater than\", str(a))\n",
    "if b == a:\n",
    "\tprint(str(b), \"is equal to\", str(a))\n",
    "if b < a:\n",
    "\tprint(str(b), \"is smaller than\", str(a))"
   ]
  },
  {
   "cell_type": "code",
   "execution_count": null,
   "metadata": {},
   "outputs": [],
   "source": [
    "# User defined functions\n",
    "# Output fibonacci nos. for up to the 30th term\n",
    "\n",
    "def fib(n):\n",
    "    if n == 1:\n",
    "        return 1\n",
    "    if n == 2:\n",
    "        return 1\n",
    "    return fib(n-1) + fib(n-2)\n",
    "i = 1\n",
    "while i <= 30:\n",
    "    print(i, fib(i))\n",
    "    i += 1\n",
    "print('end')"
   ]
  },
  {
   "cell_type": "code",
   "execution_count": null,
   "metadata": {},
   "outputs": [],
   "source": [
    "# Program to display the Fibonacci sequence up to n-th term, with zero being the first term\n",
    "\n",
    "nterms = int(input(\"How many terms? \"))\n",
    "\n",
    "# first two terms\n",
    "n1, n2 = 0, 1\n",
    "count = 0\n",
    "\n",
    "# check if the number of terms is valid\n",
    "if nterms <= 0:\n",
    "    print(\"Please enter a positive integer\")\n",
    "# if there is only one term, return n1\n",
    "elif nterms == 1:\n",
    "    print(\"Fibonacci sequence upto\",nterms,\":\")\n",
    "    print(n1)\n",
    "# generate fibonacci sequence\n",
    "else:\n",
    "    print(\"Fibonacci sequence:\")\n",
    "    while count < nterms:\n",
    "        print(n1)\n",
    "        nth = n1 + n2\n",
    "        # update values\n",
    "        n1 = n2\n",
    "        n2 = nth\n",
    "        count += 1"
   ]
  },
  {
   "cell_type": "code",
   "execution_count": null,
   "metadata": {},
   "outputs": [],
   "source": [
    "'''\n",
    "# install modules\n",
    "python -m pip install numpy\n",
    "python -m pip install pandas\n",
    "\n",
    "'''\n",
    "\n",
    "import numpy\n",
    "\n",
    "arr = [1, 2, 3, 4, 5, 1] #list\n",
    "arr1 = (1, 2, 3, 4, 5, 1) #tuple\n",
    "arr2 = {1, 2, 3, 4, 5, 1} #set, no repeat\n",
    "arr3 = {1:'A', 2:'B', 3:'C', 4:'D', 5:'E', 1:'A'} #dict, no repeat\n",
    "\n",
    "print(arr)\n",
    "print(type(arr))\n",
    "\n",
    "print(arr1)\n",
    "print(type(arr1))\n",
    "\n",
    "print(arr2)\n",
    "print(type(arr2))\n",
    "\n",
    "print(arr3)\n",
    "print(type(arr3))"
   ]
  },
  {
   "cell_type": "code",
   "execution_count": null,
   "metadata": {},
   "outputs": [],
   "source": [
    "'''\n",
    "# install module\n",
    "python -m pip install matplotlib\n",
    "\n",
    "'''\n",
    "# importing the required module\n",
    "import matplotlib.pyplot as plt\n",
    " \n",
    "# x axis values\n",
    "x = [1,2,3,4,5,6,7,8,9,10]\n",
    "# corresponding y axis values\n",
    "y = [2,4,1,32,122,43,32,11,2,6]\n",
    " \n",
    "# plotting the points\n",
    "plt.plot(x, y)\n",
    " \n",
    "# naming the x axis\n",
    "plt.xlabel('x - axis')\n",
    "# naming the y axis\n",
    "plt.ylabel('y - axis')\n",
    " \n",
    "# giving a title to my graph\n",
    "plt.title('My first graph!')\n",
    " \n",
    "# function to show the plot\n",
    "plt.show()"
   ]
  },
  {
   "cell_type": "code",
   "execution_count": null,
   "metadata": {},
   "outputs": [],
   "source": [
    "from datetime import datetime\n",
    "from dateutil import relativedelta\n",
    "\n",
    "# get two dates\n",
    "d1 = input('First date (dd/mm/yyyy): ')\n",
    "d2 = input('Second date (dd/mm/yyyy): ')\n",
    "\n",
    "# convert string to date object\n",
    "start_date = datetime.strptime(d1, \"%d/%m/%Y\")\n",
    "end_date = datetime.strptime(d2, \"%d/%m/%Y\")\n",
    "\n",
    "# Get the relativedelta between two dates\n",
    "delta = relativedelta.relativedelta(end_date, start_date)\n",
    "print('Years, Months, Days between two dates is')\n",
    "print(delta.years, 'Years,', delta.months, 'months,', delta.days, 'days')"
   ]
  }
 ],
 "metadata": {
  "kernelspec": {
   "display_name": "Python 3",
   "language": "python",
   "name": "python3"
  },
  "language_info": {
   "codemirror_mode": {
    "name": "ipython",
    "version": 3
   },
   "file_extension": ".py",
   "mimetype": "text/x-python",
   "name": "python",
   "nbconvert_exporter": "python",
   "pygments_lexer": "ipython3",
   "version": "3.12.1"
  }
 },
 "nbformat": 4,
 "nbformat_minor": 2
}
